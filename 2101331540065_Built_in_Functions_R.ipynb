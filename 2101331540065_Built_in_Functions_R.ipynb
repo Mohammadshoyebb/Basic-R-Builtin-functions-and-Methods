{
  "nbformat": 4,
  "nbformat_minor": 0,
  "metadata": {
    "colab": {
      "provenance": []
    },
    "kernelspec": {
      "name": "ir",
      "display_name": "R"
    },
    "language_info": {
      "name": "R"
    }
  },
  "cells": [
    {
      "cell_type": "code",
      "source": [
        "install.packages(\"dplyr\")\n",
        "library(\"dplyr\")"
      ],
      "metadata": {
        "colab": {
          "base_uri": "https://localhost:8080/"
        },
        "id": "zC2Wu-p8w11D",
        "outputId": "9f5116ce-72e8-4efa-cff0-9c10e85731e9"
      },
      "execution_count": null,
      "outputs": [
        {
          "output_type": "stream",
          "name": "stderr",
          "text": [
            "Installing package into ‘/usr/local/lib/R/site-library’\n",
            "(as ‘lib’ is unspecified)\n",
            "\n"
          ]
        }
      ]
    },
    {
      "cell_type": "code",
      "source": [
        "\n",
        "#squareroot\n",
        "sqrt(100)\n"
      ],
      "metadata": {
        "colab": {
          "base_uri": "https://localhost:8080/",
          "height": 34
        },
        "id": "2B6DLcxIxKMK",
        "outputId": "d014673f-fad7-495b-efc7-3d82821867b1"
      },
      "execution_count": null,
      "outputs": [
        {
          "output_type": "display_data",
          "data": {
            "text/html": [
              "10"
            ],
            "text/markdown": "10",
            "text/latex": "10",
            "text/plain": [
              "[1] 10"
            ]
          },
          "metadata": {}
        }
      ]
    },
    {
      "cell_type": "code",
      "source": [
        "#log\n",
        "log(10)"
      ],
      "metadata": {
        "colab": {
          "base_uri": "https://localhost:8080/",
          "height": 34
        },
        "id": "cvCL7Nu3xN0U",
        "outputId": "9b647101-2306-43e3-cdd4-dedffbd35b20"
      },
      "execution_count": null,
      "outputs": [
        {
          "output_type": "display_data",
          "data": {
            "text/html": [
              "2.30258509299405"
            ],
            "text/markdown": "2.30258509299405",
            "text/latex": "2.30258509299405",
            "text/plain": [
              "[1] 2.302585"
            ]
          },
          "metadata": {}
        }
      ]
    },
    {
      "cell_type": "code",
      "source": [
        "#absolute\n",
        "abs(-10)\n"
      ],
      "metadata": {
        "colab": {
          "base_uri": "https://localhost:8080/",
          "height": 34
        },
        "id": "Z_SUPB7FxN25",
        "outputId": "8079d50c-8f6b-45e8-922a-5441b5ead084"
      },
      "execution_count": null,
      "outputs": [
        {
          "output_type": "display_data",
          "data": {
            "text/html": [
              "10"
            ],
            "text/markdown": "10",
            "text/latex": "10",
            "text/plain": [
              "[1] 10"
            ]
          },
          "metadata": {}
        }
      ]
    },
    {
      "cell_type": "code",
      "source": [
        "#Ceiling\n",
        "ceiling(4.987)"
      ],
      "metadata": {
        "colab": {
          "base_uri": "https://localhost:8080/",
          "height": 34
        },
        "id": "6r8cuCzZxN5V",
        "outputId": "c7b6a50c-98fc-479a-da95-52c9e22e8714"
      },
      "execution_count": null,
      "outputs": [
        {
          "output_type": "display_data",
          "data": {
            "text/html": [
              "5"
            ],
            "text/markdown": "5",
            "text/latex": "5",
            "text/plain": [
              "[1] 5"
            ]
          },
          "metadata": {}
        }
      ]
    },
    {
      "cell_type": "code",
      "source": [
        "\n",
        "#floor\n",
        "floor(4.9875)\n"
      ],
      "metadata": {
        "colab": {
          "base_uri": "https://localhost:8080/",
          "height": 34
        },
        "id": "lVyztuWLxN7d",
        "outputId": "5250d6cb-8b26-4776-e1eb-f0866bd86435"
      },
      "execution_count": null,
      "outputs": [
        {
          "output_type": "display_data",
          "data": {
            "text/html": [
              "4"
            ],
            "text/markdown": "4",
            "text/latex": "4",
            "text/plain": [
              "[1] 4"
            ]
          },
          "metadata": {}
        }
      ]
    },
    {
      "cell_type": "code",
      "source": [
        "#truncate\n",
        "trunc(3.7)\n",
        "\n",
        "trunc(3.777777799)"
      ],
      "metadata": {
        "colab": {
          "base_uri": "https://localhost:8080/",
          "height": 52
        },
        "id": "HDNNGjwNxN-6",
        "outputId": "e8cc67cb-3037-4261-dafa-7de438eebde2"
      },
      "execution_count": null,
      "outputs": [
        {
          "output_type": "display_data",
          "data": {
            "text/html": [
              "3"
            ],
            "text/markdown": "3",
            "text/latex": "3",
            "text/plain": [
              "[1] 3"
            ]
          },
          "metadata": {}
        },
        {
          "output_type": "display_data",
          "data": {
            "text/html": [
              "3"
            ],
            "text/markdown": "3",
            "text/latex": "3",
            "text/plain": [
              "[1] 3"
            ]
          },
          "metadata": {}
        }
      ]
    },
    {
      "cell_type": "code",
      "source": [
        "#Round off value\n",
        "round(34.4567,3)\n"
      ],
      "metadata": {
        "colab": {
          "base_uri": "https://localhost:8080/",
          "height": 34
        },
        "id": "DS336ISFxahp",
        "outputId": "4dd8224f-2070-49f3-acb2-22c5974fd0d6"
      },
      "execution_count": null,
      "outputs": [
        {
          "output_type": "display_data",
          "data": {
            "text/html": [
              "34.457"
            ],
            "text/markdown": "34.457",
            "text/latex": "34.457",
            "text/plain": [
              "[1] 34.457"
            ]
          },
          "metadata": {}
        }
      ]
    },
    {
      "cell_type": "code",
      "source": [
        "#trignometric function\n",
        "sin(45)\n",
        "cos(45)\n",
        "tan(100)"
      ],
      "metadata": {
        "colab": {
          "base_uri": "https://localhost:8080/",
          "height": 69
        },
        "id": "nTLHPHMzxaj8",
        "outputId": "17f3fb1e-f717-491b-e20a-1afaa8c7d66c"
      },
      "execution_count": null,
      "outputs": [
        {
          "output_type": "display_data",
          "data": {
            "text/html": [
              "0.850903524534118"
            ],
            "text/markdown": "0.850903524534118",
            "text/latex": "0.850903524534118",
            "text/plain": [
              "[1] 0.8509035"
            ]
          },
          "metadata": {}
        },
        {
          "output_type": "display_data",
          "data": {
            "text/html": [
              "0.52532198881773"
            ],
            "text/markdown": "0.52532198881773",
            "text/latex": "0.52532198881773",
            "text/plain": [
              "[1] 0.525322"
            ]
          },
          "metadata": {}
        },
        {
          "output_type": "display_data",
          "data": {
            "text/html": [
              "-0.587213915156929"
            ],
            "text/markdown": "-0.587213915156929",
            "text/latex": "-0.587213915156929",
            "text/plain": [
              "[1] -0.5872139"
            ]
          },
          "metadata": {}
        }
      ]
    },
    {
      "cell_type": "code",
      "source": [
        "#logbase10\n",
        "log10(10)\n"
      ],
      "metadata": {
        "colab": {
          "base_uri": "https://localhost:8080/",
          "height": 34
        },
        "id": "UC7R5-6pxami",
        "outputId": "192b2103-b19d-4754-a979-a0c14b132a6f"
      },
      "execution_count": null,
      "outputs": [
        {
          "output_type": "display_data",
          "data": {
            "text/html": [
              "1"
            ],
            "text/markdown": "1",
            "text/latex": "1",
            "text/plain": [
              "[1] 1"
            ]
          },
          "metadata": {}
        }
      ]
    },
    {
      "cell_type": "code",
      "source": [
        "\n",
        "#exponential\n",
        "exp(10)\n"
      ],
      "metadata": {
        "colab": {
          "base_uri": "https://localhost:8080/",
          "height": 34
        },
        "id": "Ndly-rv-xaoz",
        "outputId": "fecdb923-8e89-4bda-918d-81b5a3eb1293"
      },
      "execution_count": null,
      "outputs": [
        {
          "output_type": "display_data",
          "data": {
            "text/html": [
              "22026.4657948067"
            ],
            "text/markdown": "22026.4657948067",
            "text/latex": "22026.4657948067",
            "text/plain": [
              "[1] 22026.47"
            ]
          },
          "metadata": {}
        }
      ]
    },
    {
      "cell_type": "code",
      "source": [
        "#function to create total resistance if three resistors are connected in series\n",
        "#creating function in R\n",
        "resistance_series = function(r1,r2,r3){\n",
        "  ans = r1+r2+r3\n",
        "  print(ans)\n",
        "}\n",
        "resistance_series(3,5,8)\n",
        "\n"
      ],
      "metadata": {
        "colab": {
          "base_uri": "https://localhost:8080/"
        },
        "id": "xMC2zhwVxasN",
        "outputId": "e7185906-b6d5-4021-c5fa-7384ed62b0c6"
      },
      "execution_count": null,
      "outputs": [
        {
          "output_type": "stream",
          "name": "stdout",
          "text": [
            "[1] 16\n"
          ]
        }
      ]
    },
    {
      "cell_type": "code",
      "source": [
        "#create a sequesnce from 1 to 25 using seq()\n",
        "\n",
        "seq(1:25)\n"
      ],
      "metadata": {
        "colab": {
          "base_uri": "https://localhost:8080/",
          "height": 34
        },
        "id": "xUyhsZabxjtc",
        "outputId": "fd467b96-d3bc-47b4-89be-f6e5f0de037e"
      },
      "execution_count": null,
      "outputs": [
        {
          "output_type": "display_data",
          "data": {
            "text/html": [
              "<style>\n",
              ".list-inline {list-style: none; margin:0; padding: 0}\n",
              ".list-inline>li {display: inline-block}\n",
              ".list-inline>li:not(:last-child)::after {content: \"\\00b7\"; padding: 0 .5ex}\n",
              "</style>\n",
              "<ol class=list-inline><li>1</li><li>2</li><li>3</li><li>4</li><li>5</li><li>6</li><li>7</li><li>8</li><li>9</li><li>10</li><li>11</li><li>12</li><li>13</li><li>14</li><li>15</li><li>16</li><li>17</li><li>18</li><li>19</li><li>20</li><li>21</li><li>22</li><li>23</li><li>24</li><li>25</li></ol>\n"
            ],
            "text/markdown": "1. 1\n2. 2\n3. 3\n4. 4\n5. 5\n6. 6\n7. 7\n8. 8\n9. 9\n10. 10\n11. 11\n12. 12\n13. 13\n14. 14\n15. 15\n16. 16\n17. 17\n18. 18\n19. 19\n20. 20\n21. 21\n22. 22\n23. 23\n24. 24\n25. 25\n\n\n",
            "text/latex": "\\begin{enumerate*}\n\\item 1\n\\item 2\n\\item 3\n\\item 4\n\\item 5\n\\item 6\n\\item 7\n\\item 8\n\\item 9\n\\item 10\n\\item 11\n\\item 12\n\\item 13\n\\item 14\n\\item 15\n\\item 16\n\\item 17\n\\item 18\n\\item 19\n\\item 20\n\\item 21\n\\item 22\n\\item 23\n\\item 24\n\\item 25\n\\end{enumerate*}\n",
            "text/plain": [
              " [1]  1  2  3  4  5  6  7  8  9 10 11 12 13 14 15 16 17 18 19 20 21 22 23 24 25"
            ]
          },
          "metadata": {}
        }
      ]
    },
    {
      "cell_type": "code",
      "source": [
        "# find mean of first 1000 number\n",
        "\n",
        "\n",
        "mean(1:1000)\n"
      ],
      "metadata": {
        "colab": {
          "base_uri": "https://localhost:8080/",
          "height": 34
        },
        "id": "j93nUvswxjzk",
        "outputId": "7edc5e9b-21f1-4fc3-9e31-840927a3959c"
      },
      "execution_count": null,
      "outputs": [
        {
          "output_type": "display_data",
          "data": {
            "text/html": [
              "500.5"
            ],
            "text/markdown": "500.5",
            "text/latex": "500.5",
            "text/plain": [
              "[1] 500.5"
            ]
          },
          "metadata": {}
        }
      ]
    },
    {
      "cell_type": "code",
      "source": [
        "# find median of first 100\n",
        "\n",
        "median(1:100)"
      ],
      "metadata": {
        "colab": {
          "base_uri": "https://localhost:8080/",
          "height": 34
        },
        "id": "zL-cKrRtxj11",
        "outputId": "bc9508a4-7d1c-47d6-81ed-9e48500ea318"
      },
      "execution_count": null,
      "outputs": [
        {
          "output_type": "display_data",
          "data": {
            "text/html": [
              "50.5"
            ],
            "text/markdown": "50.5",
            "text/latex": "50.5",
            "text/plain": [
              "[1] 50.5"
            ]
          },
          "metadata": {}
        }
      ]
    },
    {
      "cell_type": "code",
      "source": [
        "# find median of first 101\n",
        "\n",
        "median(1:101)\n"
      ],
      "metadata": {
        "colab": {
          "base_uri": "https://localhost:8080/",
          "height": 34
        },
        "id": "5ZCdmsDVxj4F",
        "outputId": "ac40d7d9-a6f5-4e9f-b16a-bd3bbccf5d7a"
      },
      "execution_count": null,
      "outputs": [
        {
          "output_type": "display_data",
          "data": {
            "text/html": [
              "51"
            ],
            "text/markdown": "51",
            "text/latex": "51",
            "text/plain": [
              "[1] 51"
            ]
          },
          "metadata": {}
        }
      ]
    },
    {
      "cell_type": "code",
      "source": [
        "\n",
        "#find sum of 100 natural number using sum()\n",
        "\n",
        "volume = function(r,h){\n",
        "  ans = 3.14*r*r*h\n",
        "\n",
        "  print(ans)\n",
        "}\n",
        "volume(10,10)\n"
      ],
      "metadata": {
        "colab": {
          "base_uri": "https://localhost:8080/"
        },
        "id": "D-NjCOOexj6Z",
        "outputId": "f4af74e3-28e2-4cea-c21c-18e98f049e2b"
      },
      "execution_count": null,
      "outputs": [
        {
          "output_type": "stream",
          "name": "stdout",
          "text": [
            "[1] 3140\n"
          ]
        }
      ]
    },
    {
      "cell_type": "code",
      "source": [
        "\n",
        "# find factorial of a number\n",
        "\n",
        "\n",
        "factorial(5)\n",
        "\n",
        "# find factorial of a number using user defined function\n",
        "\n",
        "fact = function(n){\n",
        "  nf=1\n",
        "  for(i in 1:n){\n",
        "    nf=nf*i}\n",
        "  print(nf)\n",
        "}\n",
        "fact(5)\n"
      ],
      "metadata": {
        "colab": {
          "base_uri": "https://localhost:8080/",
          "height": 52
        },
        "id": "j6cuHkcBxj8l",
        "outputId": "40a22b22-37ec-4e76-b997-f1f24ed32075"
      },
      "execution_count": null,
      "outputs": [
        {
          "output_type": "display_data",
          "data": {
            "text/html": [
              "120"
            ],
            "text/markdown": "120",
            "text/latex": "120",
            "text/plain": [
              "[1] 120"
            ]
          },
          "metadata": {}
        },
        {
          "output_type": "stream",
          "name": "stdout",
          "text": [
            "[1] 120\n"
          ]
        }
      ]
    },
    {
      "cell_type": "code",
      "source": [
        "#create a integer value vector\n",
        "\n",
        "v1 = c(2L,673L,3787L,8732L)\n",
        "print(v1)\n",
        "typeof(v1)"
      ],
      "metadata": {
        "colab": {
          "base_uri": "https://localhost:8080/",
          "height": 52
        },
        "id": "hCUni2YTxj-g",
        "outputId": "5ccf3d1f-47df-4aab-8e6e-d3a3e9960e8f"
      },
      "execution_count": null,
      "outputs": [
        {
          "output_type": "stream",
          "name": "stdout",
          "text": [
            "[1]    2  673 3787 8732\n"
          ]
        },
        {
          "output_type": "display_data",
          "data": {
            "text/html": [
              "'integer'"
            ],
            "text/markdown": "'integer'",
            "text/latex": "'integer'",
            "text/plain": [
              "[1] \"integer\""
            ]
          },
          "metadata": {}
        }
      ]
    },
    {
      "cell_type": "code",
      "source": [
        "#create a integer value vector\n",
        "v2 = c(3,783,7484,8328,980)\n",
        "typeof(v2)\n",
        "y = as.integer(v2)\n",
        "typeof(y)\n",
        "\n"
      ],
      "metadata": {
        "colab": {
          "base_uri": "https://localhost:8080/",
          "height": 52
        },
        "id": "rxX4D6KZxkB6",
        "outputId": "74225e92-7d3b-4bb2-fea9-deefe5d586ea"
      },
      "execution_count": null,
      "outputs": [
        {
          "output_type": "display_data",
          "data": {
            "text/html": [
              "'double'"
            ],
            "text/markdown": "'double'",
            "text/latex": "'double'",
            "text/plain": [
              "[1] \"double\""
            ]
          },
          "metadata": {}
        },
        {
          "output_type": "display_data",
          "data": {
            "text/html": [
              "'integer'"
            ],
            "text/markdown": "'integer'",
            "text/latex": "'integer'",
            "text/plain": [
              "[1] \"integer\""
            ]
          },
          "metadata": {}
        }
      ]
    },
    {
      "cell_type": "code",
      "source": [
        "#Create a matrix\n",
        "m <- matrix(c(1, 2, 2, 1), nrow = 2, ncol = 2, byrow = TRUE)\n",
        "print(m)"
      ],
      "metadata": {
        "colab": {
          "base_uri": "https://localhost:8080/"
        },
        "id": "65SNWO1WyFDU",
        "outputId": "354d12c3-e4b8-4b34-a9a9-083d409dae17"
      },
      "execution_count": null,
      "outputs": [
        {
          "output_type": "stream",
          "name": "stdout",
          "text": [
            "     [,1] [,2]\n",
            "[1,]    1    2\n",
            "[2,]    2    1\n"
          ]
        }
      ]
    },
    {
      "cell_type": "code",
      "execution_count": null,
      "metadata": {
        "colab": {
          "base_uri": "https://localhost:8080/",
          "height": 121
        },
        "id": "WezNqHZQwxBi",
        "outputId": "4e128cd5-7a3b-49fb-c799-2deca180011c"
      },
      "outputs": [
        {
          "output_type": "stream",
          "name": "stdout",
          "text": [
            "[1] \"pnorm:\"\n"
          ]
        },
        {
          "output_type": "display_data",
          "data": {
            "text/html": [
              "<style>\n",
              ".list-inline {list-style: none; margin:0; padding: 0}\n",
              ".list-inline>li {display: inline-block}\n",
              ".list-inline>li:not(:last-child)::after {content: \"\\00b7\"; padding: 0 .5ex}\n",
              "</style>\n",
              "<ol class=list-inline><li>1</li><li>1</li><li>1</li><li>1</li><li>1</li><li>1</li></ol>\n"
            ],
            "text/markdown": "1. 1\n2. 1\n3. 1\n4. 1\n5. 1\n6. 1\n\n\n",
            "text/latex": "\\begin{enumerate*}\n\\item 1\n\\item 1\n\\item 1\n\\item 1\n\\item 1\n\\item 1\n\\end{enumerate*}\n",
            "text/plain": [
              "[1] 1 1 1 1 1 1"
            ]
          },
          "metadata": {}
        },
        {
          "output_type": "stream",
          "name": "stdout",
          "text": [
            "[1] \"dnorm:\"\n"
          ]
        },
        {
          "output_type": "display_data",
          "data": {
            "text/html": [
              "<style>\n",
              ".list-inline {list-style: none; margin:0; padding: 0}\n",
              ".list-inline>li {display: inline-block}\n",
              ".list-inline>li:not(:last-child)::after {content: \"\\00b7\"; padding: 0 .5ex}\n",
              "</style>\n",
              "<ol class=list-inline><li>7.69459862670642e-23</li><li>1.02797735716689e-18</li><li>0</li><li>1.02797735716689e-18</li><li>0</li><li>1.02797735716689e-18</li></ol>\n"
            ],
            "text/markdown": "1. 7.69459862670642e-23\n2. 1.02797735716689e-18\n3. 0\n4. 1.02797735716689e-18\n5. 0\n6. 1.02797735716689e-18\n\n\n",
            "text/latex": "\\begin{enumerate*}\n\\item 7.69459862670642e-23\n\\item 1.02797735716689e-18\n\\item 0\n\\item 1.02797735716689e-18\n\\item 0\n\\item 1.02797735716689e-18\n\\end{enumerate*}\n",
            "text/plain": [
              "[1] 7.694599e-23 1.027977e-18 0.000000e+00 1.027977e-18 0.000000e+00\n",
              "[6] 1.027977e-18"
            ]
          },
          "metadata": {}
        },
        {
          "output_type": "stream",
          "name": "stdout",
          "text": [
            "[1] \"pbinom:\"\n"
          ]
        },
        {
          "output_type": "display_data",
          "data": {
            "text/html": [
              "<style>\n",
              ".list-inline {list-style: none; margin:0; padding: 0}\n",
              ".list-inline>li {display: inline-block}\n",
              ".list-inline>li:not(:last-child)::after {content: \"\\00b7\"; padding: 0 .5ex}\n",
              "</style>\n",
              "<ol class=list-inline><li>0.212178111076355</li><li>0.114761471748352</li><li>1</li><li>0.114761471748352</li><li>1</li><li>0.114761471748352</li></ol>\n"
            ],
            "text/markdown": "1. 0.212178111076355\n2. 0.114761471748352\n3. 1\n4. 0.114761471748352\n5. 1\n6. 0.114761471748352\n\n\n",
            "text/latex": "\\begin{enumerate*}\n\\item 0.212178111076355\n\\item 0.114761471748352\n\\item 1\n\\item 0.114761471748352\n\\item 1\n\\item 0.114761471748352\n\\end{enumerate*}\n",
            "text/plain": [
              "[1] 0.2121781 0.1147615 1.0000000 0.1147615 1.0000000 0.1147615"
            ]
          },
          "metadata": {}
        }
      ],
      "source": [
        "#prorm,   dnorm,    pbinom\n",
        "\n",
        "v=c(10,9,829,09,827,09)\n",
        "\n",
        "print(\"pnorm:\")\n",
        "pnorm(v)\n",
        "print(\"dnorm:\")\n",
        "dnorm(v)\n",
        "print(\"pbinom:\")\n",
        "pbinom(v,25,.5)\n"
      ]
    },
    {
      "cell_type": "code",
      "source": [],
      "metadata": {
        "id": "gQOzfgx2zfbz"
      },
      "execution_count": null,
      "outputs": []
    }
  ]
}